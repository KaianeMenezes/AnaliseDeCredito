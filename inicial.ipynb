#PASSO 1
!pip install pandas scikit-learn
import pandas as pd
tabela= pd.read_csv('clientes.csv')
display(tabela)

#PASSO 2
display(tabela.info())
#OBJECT: TEXTO
#profissao, mix_credito, comportamento_pagamento -> IA SÓ ENTENDE NUMEROS, VAMOS TRANSFORMAR ESSES TEXTOS EM NUMEROS
#LabelEncoder-> atribui ao texto um numero, vice e versa
from sklearn.preprocessing import LabelEncoder
#profissao
codificador1=LabelEncoder()
tabela['profissao']=codificador1.fit_transform(tabela['profissao'])
#mix_credito
codificador2=LabelEncoder()
tabela['mix_credito']=codificador2.fit_transform(tabela['mix_credito'])
#comportamento_pagamento
codificador3=LabelEncoder()
tabela['comportamento_pagamento']=codificador3.fit_transform(tabela['comportamento_pagamento'])
display(tabela.info())

#separar as informacoes da base de dados para a ia
#separar em X e Y
#Y: quem eu quero prever (score_credito)
#X: as outras colunas (colunas que vou usar para fazer a previsao)
y= tabela ['score_credito']
x= tabela.drop(columns=['score_credito','id_cliente'])#nao vou usar essas colunas pra previsao

#separar em dados de treino e teste
from sklearn.model_selection import train_test_split
x_treino, x_teste, y_treino, y_test= train_test_split(x, y, test_size=0.3)

#PASSO 3
#importar o modelo
from sklearn.ensemble import RandomForestClassifier
from sklearn.neighbors import KNeighborsClassifier

#criar o modelo
modelo_arvoredecisao = RandomForestClassifier()
modelo_knn= KNeighborsClassifier()

#treinar o modelo
modelo_arvoredecisao.fit(x_treino, y_treino)
modelo_knn.fit(x_treino, y_treino)

#PASSO 4
#previsoes
previsao_arvoredecisao= modelo_arvoredecisao.predict(x_teste)
previsao_knn= modelo_knn.predict(x_teste)

#acuracia(proporcao de acertos)
from sklearn.metrics import accuracy_score

display(accuracy_score(y_test,previsao_arvoredecisao))
display(accuracy_score(y_test,previsao_knn))
#o melhor modelo é o da arvore de decisao (ForestClassifier) 82% de acuracia

#PASSO 5
#modelo_arvoredecisao
tabela_nova= pd.read_csv('novos_clientes.csv')
display(tabela_nova)

#profissao
codificador1=LabelEncoder()
tabela_nova['profissao']=codificador1.fit_transform(tabela_nova['profissao'])
#mix_credito
codificador2=LabelEncoder()
tabela_nova['mix_credito']=codificador2.fit_transform(tabela_nova['mix_credito'])
#comportamento_pagamento
codificador3=LabelEncoder()
tabela_nova['comportamento_pagamento']=codificador3.fit_transform(tabela_nova['comportamento_pagamento'])

previsao= modelo_arvoredecisao.predict(tabela_nova)
display(previsao)

